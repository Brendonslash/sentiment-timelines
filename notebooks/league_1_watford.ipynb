{
 "cells": [
  {
   "cell_type": "code",
   "execution_count": 1,
   "metadata": {
    "collapsed": false,
    "slideshow": {
     "slide_type": "slide"
    }
   },
   "outputs": [],
   "source": []
  },
  {
   "cell_type": "markdown",
   "metadata": {
    "slideshow": {
     "slide_type": "slide"
    }
   },
   "source": [
    "# Sentiment analysis of match thread\n",
    "\n",
    "To run this yourself. Two things have to be done manually:\n",
    "\n",
    "1. Set up PhantomJS with Selenium (This has gotten easier to install (not sure if PhantomJS now comes with Selenium by default or you still have to download it seperately). Used to be a pain.)\n",
    "\n",
    "2. Get a client_id / client_secret set up with PRAW / Reddit. In this code it is assumed that there is a file called: *praw.json* which contains client_id, client_secret, password, user_agent, and username.\n",
    "\n",
    "Tweaks will need to be made before the match events are fully automatic.\n",
    "\n",
    "Notebooks are run in the main directory of the repository (and just archived in the notebook folder). So paths will have to be modified if you run the notebook in the notebook folder"
   ]
  },
  {
   "cell_type": "markdown",
   "metadata": {
    "slideshow": {
     "slide_type": "slide"
    }
   },
   "source": [
    "### Import packages"
   ]
  },
  {
   "cell_type": "code",
   "execution_count": 1,
   "metadata": {
    "collapsed": false,
    "slideshow": {
     "slide_type": "slide"
    }
   },
   "outputs": [],
   "source": [
    "import praw\n",
    "import datetime\n",
    "import pandas as pd\n",
    "import nltk.sentiment.vader\n",
    "import matplotlib.pyplot as plt\n",
    "# Import all relevant packages\n",
    "from bs4 import BeautifulSoup\n",
    "from selenium import webdriver\n",
    "import numpy as np\n",
    "import os"
   ]
  },
  {
   "cell_type": "markdown",
   "metadata": {
    "slideshow": {
     "slide_type": "slide"
    }
   },
   "source": [
    "###  Some parameters\n",
    "\n",
    "These need to be changed every match"
   ]
  },
  {
   "cell_type": "code",
   "execution_count": 2,
   "metadata": {
    "collapsed": false,
    "slideshow": {
     "slide_type": "slide"
    }
   },
   "outputs": [],
   "source": [
    "url = 'http://www.telegraph.co.uk/football/2017/08/12/watford-vs-liverpool-premier-league-live-score-updates-team/'\n",
    "thread_id = '6t7tx3'\n",
    "analysis_name = 'League_1_Watford'"
   ]
  },
  {
   "cell_type": "markdown",
   "metadata": {
    "slideshow": {
     "slide_type": "slide"
    }
   },
   "source": [
    "###  More parameters\n",
    "\n",
    "These parameters and definitions that don't need to change each game"
   ]
  },
  {
   "cell_type": "code",
   "execution_count": 3,
   "metadata": {
    "collapsed": false,
    "slideshow": {
     "slide_type": "slide"
    }
   },
   "outputs": [],
   "source": [
    "# Define some objects to be used later\n",
    "# set up driver for scraping\n",
    "driver = webdriver.PhantomJS()\n",
    "# Define  NLTK object\n",
    "vader = nltk.sentiment.vader.SentimentIntensityAnalyzer()\n",
    "# set matplotlib style\n",
    "plt.style.use('ggplot')\n",
    "# Change this to 0 if you have downloaded the data and want to redownload\n",
    "use_saved_data = 1"
   ]
  },
  {
   "cell_type": "markdown",
   "metadata": {
    "slideshow": {
     "slide_type": "slide"
    }
   },
   "source": [
    "###  Function definitions\n",
    "\n",
    "Six funcitons that do most of the work"
   ]
  },
  {
   "cell_type": "code",
   "execution_count": 4,
   "metadata": {
    "collapsed": false,
    "slideshow": {
     "slide_type": "slide"
    }
   },
   "outputs": [],
   "source": [
    "def get_match_report(url):\n",
    "    \"\"\"\n",
    "    Function gets all times and titles of telegraph match report\n",
    "\n",
    "    \"\"\"\n",
    "    #Open page and make a soup object\n",
    "    driver.get(url)\n",
    "    r = driver.page_source\n",
    "    soup = BeautifulSoup(r, 'lxml')\n",
    "    #This finds a list of all links which are connected to a concept\n",
    "    updates = soup.findAll('div', class_='live-post js-live-post component')\n",
    "    titles = soup.findAll('h3', class_='live-post__title')\n",
    "    titles = [t.text.lower() for t in titles]\n",
    "\n",
    "    tele_times = [u.find('a').text for u in updates]\n",
    "    tele_times_dt = []\n",
    "    for t in tele_times:\n",
    "        t = t.split(':')\n",
    "        if t[1][-2:] == 'AM' or t[0] == '12':\n",
    "            tele_times_dt.append(datetime.time(int(t[0]),int(t[1][:-2])))\n",
    "        else:\n",
    "            tele_times_dt.append(datetime.time(int(t[0])+12,int(t[1][:-2])))\n",
    "\n",
    "    return titles,tele_times_dt\n",
    "\n",
    "def get_comments(thread_id,praw_info):\n",
    "    reddit = praw.Reddit(client_id=praw_info['client_id'][0],\n",
    "                         client_secret=praw_info['client_secret'][0],\n",
    "                         password=praw_info['password'][0],\n",
    "                         user_agent=praw_info['user_agent'][0],\n",
    "                         username=praw_info['username'][0])\n",
    "    submission = reddit.submission(id=thread_id)\n",
    "    submission.comments.replace_more(limit=None, threshold = 0)\n",
    "    return submission\n",
    "\n",
    "def comment_time_and_sentiment(submission):\n",
    "    time = []\n",
    "    sentiment = []\n",
    "    score = []\n",
    "    # Loop through top comments and add to time and sentiment list\n",
    "    for top_level_comment in submission.comments:\n",
    "        time.append((datetime.datetime.fromtimestamp(top_level_comment.created_utc) - datetime.timedelta(hours=1)))\n",
    "        sentiment.append(vader.polarity_scores(top_level_comment.body)['compound'])\n",
    "        score.append(top_level_comment.score)\n",
    "    # Make time format\n",
    "    pd_time = pd.to_datetime(time)\n",
    "    # Make to dateframe\n",
    "    df = pd.DataFrame(data={'sentiment': sentiment,'score':score}, index = pd_time)\n",
    "    return df\n",
    "\n",
    "def posneg_sentiment_difference(df,bins='1min'):\n",
    "    # Find comments with positive > 0 and negative < 0 sentiment\n",
    "    pdf = df[df['sentiment'] > 0]\n",
    "    ndf = df[df['sentiment'] < 0]\n",
    "\n",
    "    # Bin\n",
    "    pgdf = pdf.groupby(pd.TimeGrouper(freq=bins)).count()\n",
    "    ngdf = ndf.groupby(pd.TimeGrouper(freq=bins)).count()\n",
    "    diff_df = (pgdf['sentiment']-ngdf['sentiment']).dropna()\n",
    "    return diff_df\n",
    "\n",
    "\n",
    "def weighted_posneg_sentiment_difference(df,bins='1min'):\n",
    "    # Find comments with positive > 0 and negative < 0 sentiment\n",
    "    df = pd.DataFrame(df[df['score']>0])\n",
    "    pdf = df[df['sentiment'] > 0]\n",
    "    ndf = df[df['sentiment'] < 0]\n",
    "    # Bin\n",
    "    pgdf = pdf.groupby(pd.TimeGrouper(freq=bins)).count()\n",
    "    ngdf = ndf.groupby(pd.TimeGrouper(freq=bins)).count()\n",
    "    # Take the difference\n",
    "    diff_df = (pgdf['sentiment']*pgdf['score']-ngdf['sentiment']*ngdf['score']).dropna()\n",
    "    return diff_df\n",
    "\n",
    "\n",
    "def plot_figure(df,ax):\n",
    "    # Main line\n",
    "    ax.plot(df.index.time,df,linewidth=2,color='firebrick')\n",
    "    # Scale y axis (make even -/+ directions)\n",
    "    ax.set_ylim([-np.max(np.abs(ax.get_ylim())),np.max(np.abs(ax.get_ylim()))])\n",
    "    # Make axis ticks and labels correct\n",
    "    ax.set_xlim(datetime.time(12,00),datetime.time(15,00))\n",
    "    ax.set_xticks([ax.get_xlim()[0]+m*60 for m in range(0,181,30)])\n",
    "    ax.set_xlabel('Time (GMT/BST)')\n",
    "    return ax"
   ]
  },
  {
   "cell_type": "markdown",
   "metadata": {
    "slideshow": {
     "slide_type": "slide"
    }
   },
   "source": [
    "###  Get comments and sentiment score\n",
    "\n",
    "If the data already exists, it loads that (remember to run in main directory, not notebook directory)"
   ]
  },
  {
   "cell_type": "code",
   "execution_count": 5,
   "metadata": {
    "collapsed": false,
    "slideshow": {
     "slide_type": "slide"
    }
   },
   "outputs": [],
   "source": [
    "# If data doesn't exist, download it. If data exists, load it.\n",
    "if use_saved_data == 1 and os.path.exists('./data/' + analysis_name + '.csv'):\n",
    "    df = pd.read_csv('./data/' + analysis_name + '.csv', index_col=0, parse_dates=[0])\n",
    "else:\n",
    "    # read in reddit api info\n",
    "    praw_info = pd.read_json('praw.json')\n",
    "    # do the sentiment analysis\n",
    "    submission = get_comments(thread_id,praw_info)\n",
    "    df = comment_time_and_sentiment(submission)\n",
    "    df.to_csv('./data/' + analysis_name +  '.csv')\n",
    "    # Delete reddit api info\n",
    "    praw_info = {}"
   ]
  },
  {
   "cell_type": "markdown",
   "metadata": {
    "slideshow": {
     "slide_type": "slide"
    }
   },
   "source": [
    "### Get match report"
   ]
  },
  {
   "cell_type": "code",
   "execution_count": 6,
   "metadata": {
    "collapsed": false,
    "slideshow": {
     "slide_type": "slide"
    }
   },
   "outputs": [],
   "source": [
    "titles,matchevents = get_match_report(url)"
   ]
  },
  {
   "cell_type": "markdown",
   "metadata": {
    "slideshow": {
     "slide_type": "slide"
    }
   },
   "source": [
    "### Parse match report\n",
    "\n",
    "I have no idea if these are universal ways the match thread are, but works at least for this game (needs to be check in other games).\n",
    "\n",
    "So this will be improved in future."
   ]
  },
  {
   "cell_type": "code",
   "execution_count": 7,
   "metadata": {
    "collapsed": false,
    "slideshow": {
     "slide_type": "slide"
    }
   },
   "outputs": [],
   "source": [
    "goal = [matchevents[i] for i,t in enumerate(titles) if t == 'goal!']\n",
    "penalty = [matchevents[i] for i,t in enumerate(titles) if t[:7] == 'penalty']\n",
    "halftime = [matchevents[i] for i,t in enumerate(titles) if t[:2] == 'ht']\n",
    "fulltime = [matchevents[i] for i,t in enumerate(titles) if t[:2] == 'ft']\n",
    "kickoff = [matchevents[i] for i,t in enumerate(titles) if t[:9] == 'we\\'re off']"
   ]
  },
  {
   "cell_type": "markdown",
   "metadata": {
    "slideshow": {
     "slide_type": "slide"
    }
   },
   "source": [
    "### Get positive/negative difference\n",
    "\n",
    "Sort into number of positive and number of negative comments"
   ]
  },
  {
   "cell_type": "code",
   "execution_count": 8,
   "metadata": {
    "collapsed": false,
    "slideshow": {
     "slide_type": "slide"
    }
   },
   "outputs": [],
   "source": [
    "posneg_df = posneg_sentiment_difference(df,bins='2min')\n",
    "weighted_posneg_df = weighted_posneg_sentiment_difference(df,bins='1min')"
   ]
  },
  {
   "cell_type": "markdown",
   "metadata": {
    "slideshow": {
     "slide_type": "slide"
    }
   },
   "source": [
    "### Plot figure (unweighted)"
   ]
  },
  {
   "cell_type": "code",
   "execution_count": 9,
   "metadata": {
    "collapsed": false,
    "slideshow": {
     "slide_type": "slide"
    }
   },
   "outputs": [
    {
     "data": {
      "image/png": "[encoded data removed]",
      "text/plain": [
       "<matplotlib.figure.Figure at 0x7f95c2c105c0>"
      ]
     },
     "metadata": {},
     "output_type": "display_data"
    }
   ],
   "source": [
    "fig,ax = plt.subplots(1)\n",
    "ax = plot_figure(posneg_df,ax)\n",
    "ax.set_ylabel('# Pos Comments - # Neg Comments')\n",
    "\n",
    "# MATCH EVENTS (BELOW HERE) MIGHT HAVE TO CHANGE\n",
    "# Get y axis lims to place events\n",
    "scatter_y_min, scatter_y_max = ax.get_ylim()\n",
    "# Place match events\n",
    "ax.scatter(goal,np.tile(scatter_y_max,len(goal)),color='black',s=15)\n",
    "ax.scatter(penalty,np.tile(scatter_y_max,len(penalty)),color='black',s=15)\n",
    "# Define first and second half\n",
    "ax.fill_between([kickoff[1],halftime[0]],scatter_y_min,scatter_y_max+np.abs(scatter_y_max*0.05),facecolor='dimgray',alpha=0.25,zorder=0)\n",
    "ax.fill_between([kickoff[0],fulltime[0]],scatter_y_min,scatter_y_max+np.abs(scatter_y_max*0.05),facecolor='dimgray',alpha=0.25,zorder=0)\n",
    "ax.text(datetime.time(kickoff[1].hour,kickoff[1].minute+3),scatter_y_min+np.abs(scatter_y_min*0.05),'First Half')\n",
    "ax.text(datetime.time(kickoff[0].hour,kickoff[0].minute+3),scatter_y_min+np.abs(scatter_y_min*0.05),'Second Half')\n",
    "# Rescale ylim to encmpass match events\n",
    "ax.set_ylim([scatter_y_min,scatter_y_max+np.abs(scatter_y_max*0.05)])\n",
    "# Save\n",
    "fig.savefig('./figures/' + analysis_name +  '.png',dpi=300)\n",
    "fig.savefig('./figures/' + analysis_name +  '.pdf',dpi=300)"
   ]
  },
  {
   "cell_type": "markdown",
   "metadata": {
    "slideshow": {
     "slide_type": "slide"
    }
   },
   "source": [
    "### Plot figure (weighted)"
   ]
  },
  {
   "cell_type": "code",
   "execution_count": 10,
   "metadata": {
    "collapsed": false,
    "slideshow": {
     "slide_type": "slide"
    }
   },
   "outputs": [
    {
     "data": {
      "image/png": "[encoded data removed]",
      "text/plain": [
       "<matplotlib.figure.Figure at 0x7f95c2beb898>"
      ]
     },
     "metadata": {},
     "output_type": "display_data"
    }
   ],
   "source": [
    "# Plot weighted figure\n",
    "fig,ax = plt.subplots(1)\n",
    "ax = plot_figure(weighted_posneg_df,ax)\n",
    "ax.set_ylabel('# Pos - Neg Comments (weighted by upvotes)')\n",
    "\n",
    "# MATCH EVENTS (BELOW HERE) MIGHT HAVE TO CHANGE\n",
    "# Get y axis lims to place events\n",
    "scatter_y_min, scatter_y_max = ax.get_ylim()\n",
    "# Place match events\n",
    "ax.scatter(goal,np.tile(scatter_y_max,len(goal)),color='black',s=15)\n",
    "ax.scatter(penalty,np.tile(scatter_y_max,len(penalty)),color='black',s=15)\n",
    "# Define first and second half\n",
    "ax.fill_between([kickoff[1],halftime[0]],scatter_y_min,scatter_y_max+np.abs(scatter_y_max*0.05),facecolor='dimgray',alpha=0.25,zorder=0)\n",
    "ax.fill_between([kickoff[0],fulltime[0]],scatter_y_min,scatter_y_max+np.abs(scatter_y_max*0.05),facecolor='dimgray',alpha=0.25,zorder=0)\n",
    "ax.text(datetime.time(kickoff[1].hour,kickoff[1].minute+3),scatter_y_min+np.abs(scatter_y_min*0.05),'First Half')\n",
    "ax.text(datetime.time(kickoff[0].hour,kickoff[0].minute+3),scatter_y_min+np.abs(scatter_y_min*0.05),'Second Half')\n",
    "# Rescale ylim to encmpass match events\n",
    "ax.set_ylim([scatter_y_min,scatter_y_max+np.abs(scatter_y_max*0.05)])\n",
    "# Save\n",
    "fig.savefig('./figures/weighted_' + analysis_name +  '.png',dpi=300)\n",
    "fig.savefig('./figures/weighted_' + analysis_name +  '.pdf',dpi=300)"
   ]
  }
 ],
 "metadata": {
  "kernelspec": {
   "display_name": "Python 3",
   "language": "python",
   "name": "python3"
  },
  "language_info": {
   "codemirror_mode": {
    "name": "ipython",
    "version": 3
   },
   "file_extension": ".py",
   "mimetype": "text/x-python",
   "name": "python",
   "nbconvert_exporter": "python",
   "pygments_lexer": "ipython3",
   "version": "3.5.2"
  }
 },
 "nbformat": 4,
 "nbformat_minor": 0
}
