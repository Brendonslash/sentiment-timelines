{
 "metadata": {
  "language": "python",
  "name": ""
 },
 "nbformat": 3,
 "nbformat_minor": 0,
 "worksheets": [
  {
   "cells": [
    {
     "cell_type": "heading",
     "level": 1,
     "metadata": {
      "slideshow": {
       "slide_type": "slide"
      }
     },
     "source": [
      "Sentiment analysis of match thread"
     ]
    },
    {
     "cell_type": "markdown",
     "metadata": {
      "slideshow": {
       "slide_type": "slide"
      }
     },
     "source": [
      "## To run the code\n",
      "\n",
      "Firstly, I write for Python 3.x. Python 2 may work but I don't consciously try and correct for any Python 2 differences. Apart from installing the necessary packages (pandas, numpy, matplotlib and so on). One additional thing is needed:\n",
      "\n",
      "1. Get a client_id / client_secret set up with PRAW / Reddit. In this code it is assumed that there is a file called: *praw.json* which contains client_id, client_secret, password, user_agent, and username.\n",
      "\n",
      "Tweaks will need to be made before the match events are fully automatic.\n",
      "\n",
      "Notebooks are run in the main directory of the repository (and just archived in the notebook folder). So paths will have to be modified if you run the notebook in the notebook folder"
     ]
    },
    {
     "cell_type": "markdown",
     "metadata": {
      "slideshow": {
       "slide_type": "slide"
      }
     },
     "source": [
      "## Notes for this mathch.\n",
      "\n",
      "Premier league games will be automatic in getting match events. But Europe and cup games will probabaly be manually entering events."
     ]
    },
    {
     "cell_type": "heading",
     "level": 3,
     "metadata": {
      "slideshow": {
       "slide_type": "slide"
      }
     },
     "source": [
      "Import packages"
     ]
    },
    {
     "cell_type": "code",
     "collapsed": false,
     "input": [
      "import praw\n",
      "import datetime\n",
      "import pandas as pd\n",
      "import nltk.sentiment.vader\n",
      "import matplotlib.pyplot as plt\n",
      "from bs4 import BeautifulSoup\n",
      "# from selenium import webdriver\n",
      "import numpy as np\n",
      "import os\n",
      "from urllib.request import urlopen, urlretrieve"
     ],
     "language": "python",
     "metadata": {
      "slideshow": {
       "slide_type": "slide"
      }
     },
     "outputs": [],
     "prompt_number": 1
    },
    {
     "cell_type": "markdown",
     "metadata": {
      "slideshow": {
       "slide_type": "slide"
      }
     },
     "source": [
      "###  Some parameters\n",
      "\n",
      "These need to be changed every match"
     ]
    },
    {
     "cell_type": "code",
     "collapsed": false,
     "input": [
      "url = 'https://www.premierleague.com/match/22356'\n",
      "thread_id = '6up242'\n",
      "opposition = 'CrystalPalace'\n",
      "#analysis_name = 'League_1_' + opposition\n",
      "analysis_name = 'League_02_' + opposition\n",
      "hometeam = 'Liverpool'\n",
      "\n",
      "# Hopefully this can be fixed somehow without having to specify it\n",
      "kickoff = datetime.time(15,0)\n",
      "firsthalfend = datetime.time(15,47)\n",
      "secondhalfbegin = datetime.time(16,2)\n",
      "secondhalfend = datetime.time(16,52)"
     ],
     "language": "python",
     "metadata": {
      "slideshow": {
       "slide_type": "slide"
      }
     },
     "outputs": [],
     "prompt_number": 2
    },
    {
     "cell_type": "markdown",
     "metadata": {
      "slideshow": {
       "slide_type": "slide"
      }
     },
     "source": [
      "###  More parameters\n",
      "\n",
      "These parameters and definitions that don't need to change each game"
     ]
    },
    {
     "cell_type": "code",
     "collapsed": false,
     "input": [
      "# Define some objects to be used later\n",
      "# set up driver for scraping\n",
      "# driver = webdriver.PhantomJS()\n",
      "# Define  NLTK object\n",
      "vader = nltk.sentiment.vader.SentimentIntensityAnalyzer()\n",
      "# set matplotlib style\n",
      "plt.style.use('ggplot')\n",
      "# Change this to 0 if you have downloaded the data and want to redownload\n",
      "use_saved_data = 1"
     ],
     "language": "python",
     "metadata": {
      "slideshow": {
       "slide_type": "slide"
      }
     },
     "outputs": [],
     "prompt_number": 3
    },
    {
     "cell_type": "markdown",
     "metadata": {
      "slideshow": {
       "slide_type": "slide"
      }
     },
     "source": [
      "###  Function definitions\n",
      "\n",
      "Funcitons that do most of the work"
     ]
    },
    {
     "cell_type": "heading",
     "level": 3,
     "metadata": {
      "slideshow": {
       "slide_type": "slide"
      }
     },
     "source": [
      "Functions for match events"
     ]
    },
    {
     "cell_type": "code",
     "collapsed": false,
     "input": [
      "def get_match_report(url,kickoff,secondhalfbegin):\n",
      "    \"\"\"\n",
      "    Function gets all times and titles of telegraph match report\n",
      "\n",
      "    \"\"\"\n",
      "    #Open page and make a soup object\n",
      "    #driver.get(url)\n",
      "    #r = driver.page_source\n",
      "    r = urlopen(url).read()\n",
      "    soup = BeautifulSoup(r, 'lxml')\n",
      "    # This gets the titles and timeing of match events\n",
      "    home_events_html = soup.findAll('div', class_='event home')\n",
      "    away_events_html = soup.findAll('div', class_='event away')\n",
      "    home_events = parse_match_events_html(home_events_html,kickoff,secondhalfbegin)\n",
      "    away_events = parse_match_events_html(away_events_html,kickoff,secondhalfbegin)\n",
      "    return home_events,away_events\n",
      "\n",
      "def parse_match_events_html(events_html,kickoff,secondhalfbegin):\n",
      "    event_list = []\n",
      "    for e in events_html:\n",
      "        time = e.find('time').text\n",
      "        evtype = e.find('time').nextSibling.lower()\n",
      "        evtype = evtype.replace(' ','')\n",
      "        evtype = evtype.replace('\\n','')\n",
      "        time = time.replace(' ','')\n",
      "        time = time.replace(\"'\",'')\n",
      "        # Adds time together (e.g. 90+2) if it exists\n",
      "        time_split = time.split('+')\n",
      "        time = np.sum(list(map(int,time_split)))\n",
      "\n",
      "        if (len(time_split)>1 and time < 90) or time < 45:\n",
      "            time_real = add_times(kickoff,time)\n",
      "        else:\n",
      "            time_real = add_times(secondhalfbegin,time-45)\n",
      "\n",
      "        event_list.append([time_real,evtype])\n",
      "    return event_list\n",
      "\n",
      "\n",
      "def parse_match_events(liverpool_events,opposition_events):\n",
      "\n",
      "    match_events = {}\n",
      "    # Preallocate\n",
      "    match_events['liverpool_goal'] = []\n",
      "    match_events['opponenet_goal'] = []\n",
      "    #match_events['liverpool_dis_goal'] = []\n",
      "    #match_events['opponent_dis_goal'] = []\n",
      "    match_events['liverpool_yellowcard'] = []\n",
      "    match_events['opponenet_yellowcard'] = []\n",
      "    match_events['liverpool_redcard'] = []\n",
      "    match_events['opponenet_redcard'] = []\n",
      "    match_events['liverpool_substitution'] = []\n",
      "    match_events['opponenet_substitution'] = []\n",
      "\n",
      "    for e in liverpool_events:\n",
      "        match_events['liverpool_' + e[1]] += [e[0]]\n",
      "    for e in opposition_events:\n",
      "        match_events['opponenet_' + e[1]] += [e[0]]\n",
      "\n",
      "    return match_events"
     ],
     "language": "python",
     "metadata": {
      "slideshow": {
       "slide_type": "slide"
      }
     },
     "outputs": [],
     "prompt_number": 4
    },
    {
     "cell_type": "heading",
     "level": 3,
     "metadata": {
      "slideshow": {
       "slide_type": "slide"
      }
     },
     "source": [
      "Get comment data and sentiment funcitons"
     ]
    },
    {
     "cell_type": "code",
     "collapsed": false,
     "input": [
      "def get_comments(thread_id,praw_info):\n",
      "    reddit = praw.Reddit(client_id=praw_info['client_id'][0],\n",
      "                         client_secret=praw_info['client_secret'][0],\n",
      "                         password=praw_info['password'][0],\n",
      "                         user_agent=praw_info['user_agent'][0],\n",
      "                         username=praw_info['username'][0])\n",
      "    submission = reddit.submission(id=thread_id)\n",
      "    submission.comments.replace_more(limit=None, threshold = 0)\n",
      "    return submission\n",
      "\n",
      "def comment_time_and_sentiment(submission):\n",
      "    time = []\n",
      "    sentiment = []\n",
      "    score = []\n",
      "    # Loop through top comments and add to time and sentiment list\n",
      "    for top_level_comment in submission.comments:\n",
      "        time.append((datetime.datetime.fromtimestamp(top_level_comment.created_utc) - datetime.timedelta(hours=1)))\n",
      "        sentiment.append(vader.polarity_scores(top_level_comment.body)['compound'])\n",
      "        score.append(top_level_comment.score)\n",
      "    # Make time format\n",
      "    pd_time = pd.to_datetime(time)\n",
      "    # Make to dateframe\n",
      "    df = pd.DataFrame(data={'sentiment': sentiment,'score':score}, index = pd_time)\n",
      "    return df\n",
      "\n",
      "def posneg_sentiment_difference(df,bins='1min'):\n",
      "    # Find comments with positive > 0 and negative < 0 sentiment\n",
      "    pdf = df[df['sentiment'] > 0]\n",
      "    ndf = df[df['sentiment'] < 0]\n",
      "\n",
      "    # Bin\n",
      "    pgdf = pdf.groupby(pd.TimeGrouper(freq=bins)).count()\n",
      "    ngdf = ndf.groupby(pd.TimeGrouper(freq=bins)).count()\n",
      "    diff_df = (pgdf['sentiment']-ngdf['sentiment']).dropna()\n",
      "    return diff_df\n",
      "\n",
      "\n",
      "def weighted_posneg_sentiment_difference(df,bins='1min'):\n",
      "    # Find comments with positive > 0 and negative < 0 sentiment\n",
      "    df = pd.DataFrame(df[df['score']>0])\n",
      "    pdf = df[df['sentiment'] > 0]\n",
      "    ndf = df[df['sentiment'] < 0]\n",
      "    # Bin\n",
      "    pgdf = pdf.groupby(pd.TimeGrouper(freq=bins)).count()\n",
      "    ngdf = ndf.groupby(pd.TimeGrouper(freq=bins)).count()\n",
      "    # Take the difference\n",
      "    diff_df = (pgdf['sentiment']*pgdf['score']-ngdf['sentiment']*ngdf['score']).dropna()\n",
      "    return diff_df"
     ],
     "language": "python",
     "metadata": {
      "slideshow": {
       "slide_type": "slide"
      }
     },
     "outputs": [],
     "prompt_number": 5
    },
    {
     "cell_type": "heading",
     "level": 3,
     "metadata": {
      "slideshow": {
       "slide_type": "slide"
      }
     },
     "source": [
      "Plotting and misc functions"
     ]
    },
    {
     "cell_type": "code",
     "collapsed": false,
     "input": [
      "def add_times(base_time, match_time):\n",
      "    time = datetime.datetime.combine(datetime.date.today(),base_time)+datetime.timedelta(minutes=int(match_time))\n",
      "    return time.time()\n",
      "\n",
      "def plot_sentiment_figure(df,match_events,opposition):\n",
      "\n",
      "    fig = plt.figure(figsize=(6,8))\n",
      "    ax = plt.subplot2grid((7, 1), (1, 0), rowspan=6)\n",
      "    ax_me = plt.subplot2grid((7, 1), (0, 0),sharex=ax)\n",
      "    # Main line\n",
      "    ax.plot(df.index.time,df,linewidth=2,color='firebrick')\n",
      "    # Scale y axis (make even -/+ directions)\n",
      "    ax.set_ylim([-np.max(np.abs(ax.get_ylim())),np.max(np.abs(ax.get_ylim()))])\n",
      "    # Make axis ticks and labels correct\n",
      "    start_xaxis=datetime.datetime.combine(datetime.date.today(),match_events['kickoff'])-datetime.timedelta(minutes=10)\n",
      "    end_xaxis=datetime.datetime.combine(datetime.date.today(),match_events['secondhalfend'])+datetime.timedelta(minutes=10)\n",
      "    ax.set_xticks([match_events['kickoff'].hour*3600+m*60 for m in range(0,180,30)])\n",
      "    ax.set_xlim([start_xaxis.time(),end_xaxis.time()])\n",
      "    ax.set_xlabel('Time (GMT/BST)')\n",
      "    # Get y axis lims to place events\n",
      "    scatter_y_min, scatter_y_max = ax.get_ylim()\n",
      "    # Define first and second half\n",
      "    ax.fill_between([match_events['kickoff'],match_events['firsthalfend']],scatter_y_min,scatter_y_max+np.abs(scatter_y_max*0.05),facecolor='dimgray',alpha=0.25,zorder=0)\n",
      "    ax.fill_between([match_events['secondhalfbegin'],match_events['secondhalfend']],scatter_y_min,scatter_y_max+np.abs(scatter_y_max*0.05),facecolor='dimgray',alpha=0.25,zorder=0)\n",
      "    ax.text(datetime.time(match_events['kickoff'].hour,match_events['kickoff'].minute+3),scatter_y_min+np.abs(scatter_y_min*0.05),'First Half')\n",
      "    ax.text(datetime.time(match_events['secondhalfbegin'].hour,match_events['secondhalfbegin'].minute+3),scatter_y_min+np.abs(scatter_y_min*0.05),'Second Half')\n",
      "\n",
      "    # MATCH EVENTS (BELOW HERE) MIGHT HAVE TO CHANGE\n",
      "    # Place match events\n",
      "    axlabs = []\n",
      "    if match_events['liverpool_goal']:\n",
      "        axlabs += [ax_me.scatter(match_events['liverpool_goal'],np.tile(2,len(match_events['liverpool_goal'])),color='black',s=50,label='goal')]\n",
      "    if match_events['opponenet_goal']:\n",
      "        axlabs += [ax_me.scatter(match_events['opponenet_goal'],np.tile(1,len(match_events['opponenet_goal'])),color='black',s=50,label='goal')]\n",
      "    #if match_events['liverpool_dis_goal']:\n",
      "    #    ax_me.scatter(match_events['liverpool_dis_goal'],np.tile(2,len(match_events['liverpool_dis_goal'])),color='black',s=50)\n",
      "    #    ax_me.scatter(match_events['liverpool_dis_goal'],np.tile(2,len(match_events['liverpool_dis_goal'])),marker='x',color='red',s=40)\n",
      "    #if match_events['opponenet_dis_goal']:\n",
      "    #    ax_me.scatter(match_events['opponenet_dis_goal'],np.tile(1,len(match_events['opponenet_dis_goal'])),color='black',s=50)\n",
      "    #    ax_me.scatter(match_events['opponenet_dis_goal'],np.tile(1,len(match_events['opponenet_dis_goal'])),marker='x',color='red',s=40)\n",
      "    if match_events['liverpool_yellowcard']:\n",
      "        axlabs += [ax_me.scatter(match_events['liverpool_yellowcard'],np.tile(2,len(match_events['liverpool_yellowcard'])),marker='s',color='y',s=40,label='yellow')]\n",
      "    if match_events['opponenet_yellowcard']:\n",
      "        axlabs += [ax_me.scatter(match_events['opponenet_yellowcard'],np.tile(1,len(match_events['opponenet_yellowcard'])),marker='s',color='y',s=40,label='yellow')]\n",
      "    if match_events['liverpool_redcard']:\n",
      "        axlabs += [ax_me.scatter(match_events['liverpool_redcard'],np.tile(2,len(match_events['liverpool_redcard'])),marker='s',color='r',s=40,label='red')]\n",
      "    if match_events['opponenet_redcard']:\n",
      "        axlabs += [ax_me.scatter(match_events['opponenet_redcard'],np.tile(1,len(match_events['opponenet_redcard'])),marker='s',color='r',s=40,label='red')]\n",
      "    if match_events['liverpool_substitution']:\n",
      "        axlabs += [ax_me.scatter(match_events['liverpool_substitution'],np.tile(2,len(match_events['liverpool_substitution'])),marker='s',color='g',s=10,label='sub')]\n",
      "    if match_events['opponenet_substitution']:\n",
      "        axlabs += [ax_me.scatter(match_events['opponenet_substitution'],np.tile(1,len(match_events['opponenet_substitution'])),marker='s',color='g',s=10,label='sub')]\n",
      "\n",
      "    # Filter out any duplicate labels\n",
      "    l = []\n",
      "    lax = []\n",
      "    for n in axlabs:\n",
      "        lt = n.get_label()\n",
      "        if lt not in l:\n",
      "            l += [lt]\n",
      "            lax.append(n)\n",
      "    fig.legend(lax,l,ncol=len(lax),loc=9,fontsize='small')\n",
      "\n",
      "    ax_me.set_ylim(0.5,2.5)\n",
      "    ax_me.set_yticks([1,2])\n",
      "    ax_me.set_yticklabels([opposition,'Liverpool'])\n",
      "    ax_me.set_xlabel('')\n",
      "    plt.setp(ax_me.get_xticklabels(), visible=False)\n",
      "\n",
      "    return fig,ax,ax_me"
     ],
     "language": "python",
     "metadata": {
      "slideshow": {
       "slide_type": "slide"
      }
     },
     "outputs": [],
     "prompt_number": 6
    },
    {
     "cell_type": "markdown",
     "metadata": {
      "slideshow": {
       "slide_type": "slide"
      }
     },
     "source": [
      "###  Get comments and sentiment score\n",
      "\n",
      "If the data already exists, it loads that (remember to run in main directory, not notebook directory)"
     ]
    },
    {
     "cell_type": "code",
     "collapsed": false,
     "input": [
      "# If data doesn't exist, download it. If data exists, load it.\n",
      "if use_saved_data == 1 and os.path.exists('./data/' + analysis_name + '.csv'):\n",
      "    df = pd.read_csv('./data/' + analysis_name + '.csv', index_col=0, parse_dates=[0])\n",
      "else:\n",
      "    # read in reddit api info\n",
      "    praw_info = pd.read_json('praw.json')\n",
      "    # do the sentiment analysis\n",
      "    submission = get_comments(thread_id,praw_info)\n",
      "    df = comment_time_and_sentiment(submission)\n",
      "    df.to_csv('./data/' + analysis_name +  '.csv')\n",
      "    # Delete reddit api info\n",
      "    praw_info = {}"
     ],
     "language": "python",
     "metadata": {
      "slideshow": {
       "slide_type": "slide"
      }
     },
     "outputs": [],
     "prompt_number": 7
    },
    {
     "cell_type": "heading",
     "level": 3,
     "metadata": {
      "slideshow": {
       "slide_type": "slide"
      }
     },
     "source": [
      "Get match report"
     ]
    },
    {
     "cell_type": "code",
     "collapsed": false,
     "input": [
      "if hometeam.lower() == 'liverpool':\n",
      "    liverpool_events,opposition_events = get_match_report(url,kickoff,secondhalfbegin)\n",
      "else:\n",
      "    opposition_events,liverpool_events = get_match_report(url,kickoff,secondhalfbegin)"
     ],
     "language": "python",
     "metadata": {
      "slideshow": {
       "slide_type": "slide"
      }
     },
     "outputs": [],
     "prompt_number": 8
    },
    {
     "cell_type": "heading",
     "level": 3,
     "metadata": {
      "slideshow": {
       "slide_type": "slide"
      }
     },
     "source": [
      "Parse match report"
     ]
    },
    {
     "cell_type": "code",
     "collapsed": false,
     "input": [
      "#goal = [matchevents[i] for i,t in enumerate(titles) if t == 'goal!']\n",
      "#penalty = [matchevents[i] for i,t in enumerate(titles) if t[:7] == 'penalty']\n",
      "#halftime = [matchevents[i] for i,t in enumerate(titles) if t[:2] == 'ht']\n",
      "#fulltime = [matchevents[i] for i,t in enumerate(titles) if t[:2] == 'ft']\n",
      "#kickoff = [matchevents[i] for i,t in enumerate(titles) if t[:9] == 'we\\'re off']\n",
      "\n",
      "\n",
      "match_events = parse_match_events(liverpool_events,opposition_events)\n",
      "\n",
      "match_events['kickoff'] = kickoff\n",
      "match_events['firsthalfend'] = firsthalfend\n",
      "match_events['secondhalfbegin'] = secondhalfbegin\n",
      "match_events['secondhalfend'] = secondhalfend"
     ],
     "language": "python",
     "metadata": {
      "slideshow": {
       "slide_type": "slide"
      }
     },
     "outputs": [],
     "prompt_number": 9
    },
    {
     "cell_type": "markdown",
     "metadata": {
      "slideshow": {
       "slide_type": "slide"
      }
     },
     "source": [
      "### Get positive/negative difference\n",
      "\n",
      "Sort into number of positive and number of negative comments"
     ]
    },
    {
     "cell_type": "code",
     "collapsed": false,
     "input": [
      "posneg_df = posneg_sentiment_difference(df,bins='2min')\n",
      "weighted_posneg_df = weighted_posneg_sentiment_difference(df,bins='1min')"
     ],
     "language": "python",
     "metadata": {
      "slideshow": {
       "slide_type": "slide"
      }
     },
     "outputs": [],
     "prompt_number": 10
    },
    {
     "cell_type": "heading",
     "level": 3,
     "metadata": {
      "slideshow": {
       "slide_type": "slide"
      }
     },
     "source": [
      "Plot figure (unweighted)"
     ]
    },
    {
     "cell_type": "code",
     "collapsed": false,
     "input": [
      "# Plot weighted figure\n",
      "fig,ax,axtop = plot_sentiment_figure(posneg_df,match_events,opposition)\n",
      "ax.set_ylabel('# Pos - Neg Comments')\n",
      "fig.tight_layout()\n",
      "# Save\n",
      "fig.savefig('./figures/' + analysis_name +  '.png',dpi=300)\n",
      "fig.savefig('./figures/' + analysis_name +  '.pdf',dpi=300)"
     ],
     "language": "python",
     "metadata": {
      "slideshow": {
       "slide_type": "slide"
      }
     },
     "outputs": [
      {
       "output_type": "display_data",
       "png": "[encoded data removed]",
       "text": [
        "<matplotlib.figure.Figure at 0x7f029dc9cac8>"
       ]
      }
     ],
     "prompt_number": 11
    },
    {
     "cell_type": "heading",
     "level": 3,
     "metadata": {
      "slideshow": {
       "slide_type": "slide"
      }
     },
     "source": [
      "Plot figure (weighted)"
     ]
    },
    {
     "cell_type": "code",
     "collapsed": false,
     "input": [
      "# Plot weighted figure\n",
      "fig,ax,axtop = plot_sentiment_figure(weighted_posneg_df,match_events,opposition)\n",
      "ax.set_ylabel('# Pos - Neg Comments (weighted by upvotes)')\n",
      "fig.tight_layout()\n",
      "# Save\n",
      "fig.savefig('./figures/weighted_' + analysis_name +  '.png',dpi=300)\n",
      "fig.savefig('./figures/weighted_' + analysis_name +  '.pdf',dpi=300)"
     ],
     "language": "python",
     "metadata": {
      "slideshow": {
       "slide_type": "slide"
      }
     },
     "outputs": [
      {
       "output_type": "display_data",
       "png": "[encoded data removed]",
       "text": [
        "<matplotlib.figure.Figure at 0x7f029dc9c5c0>"
       ]
      }
     ],
     "prompt_number": 12
    }
   ],
   "metadata": {}
  }
 ]
}
