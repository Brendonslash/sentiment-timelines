{
 "cells": [
  {
   "cell_type": "markdown",
   "metadata": {
    "slideshow": {
     "slide_type": "slide"
    }
   },
   "source": [
    "# Ongoing analysis of sentiment timelines.\n",
    "\n",
    "This will expand as time goes on and as more matches go on."
   ]
  },
  {
   "cell_type": "code",
   "execution_count": 1,
   "metadata": {
    "collapsed": false,
    "slideshow": {
     "slide_type": "slide"
    }
   },
   "outputs": [],
   "source": [
    "import pandas as pd\n",
    "import os\n",
    "import matplotlib.pyplot as plt\n",
    "import numpy as np"
   ]
  },
  {
   "cell_type": "code",
   "execution_count": 2,
   "metadata": {
    "collapsed": false,
    "slideshow": {
     "slide_type": "slide"
    }
   },
   "outputs": [],
   "source": [
    "# Parameters\n",
    "plt.style.use('ggplot')\n",
    "competitions_to_plot = ['League', 'CLq'] #This also defines their order"
   ]
  },
  {
   "cell_type": "markdown",
   "metadata": {
    "slideshow": {
     "slide_type": "slide"
    }
   },
   "source": [
    "### sentiment index per match index\n",
    "\n",
    "The sentiment match index ($I$) is:\n",
    "\n",
    "$$\n",
    "I = {N_\\text{pos} - N_\\text{neg} \\over N_\\text{pos} + N_\\text{neg}}\n",
    "$$\n",
    "\n",
    "Where $N$ is \"the number of\".\n",
    "\n",
    "This means that when there is a greater number of positive comments, this is positive. And negative when there were more negative comments."
   ]
  },
  {
   "cell_type": "markdown",
   "metadata": {
    "slideshow": {
     "slide_type": "slide"
    }
   },
   "source": [
    "# Pos Neg match index"
   ]
  },
  {
   "cell_type": "code",
   "execution_count": 3,
   "metadata": {
    "collapsed": false,
    "slideshow": {
     "slide_type": "slide"
    }
   },
   "outputs": [],
   "source": [
    "def pos_neg_match_index(df):\n",
    "    Npos = len(df[df['sentiment']>0])\n",
    "    Nneg = len(df[df['sentiment']<0])\n",
    "    I = ( Npos - Nneg ) / ( Npos + Nneg )\n",
    "    return I"
   ]
  },
  {
   "cell_type": "markdown",
   "metadata": {
    "slideshow": {
     "slide_type": "slide"
    }
   },
   "source": [
    "### Get overlal sentiment per game"
   ]
  },
  {
   "cell_type": "code",
   "execution_count": 4,
   "metadata": {
    "collapsed": false,
    "slideshow": {
     "slide_type": "slide"
    }
   },
   "outputs": [],
   "source": [
    "# Load each match\n",
    "opponent = []\n",
    "match_number = []\n",
    "competition = []\n",
    "match_sentiment_index = []\n",
    "# loop through directory of data\n",
    "for match in os.listdir('./data'):\n",
    "    # load data\n",
    "    df = pd.read_csv('./data/' + match)\n",
    "    # load\n",
    "    I = pos_neg_match_index(df)\n",
    "    match_sentiment_index.append(I)\n",
    "    # Split the file name to get match info\n",
    "    match_info = match.split('.')\n",
    "    match_info = match_info[0].split('_')\n",
    "    competition.append(match_info[0])\n",
    "    match_number.append(int(match_info[1]))\n",
    "    opponent.append(match_info[2])\n",
    "\n",
    "# Create a multiindex dataframe with competition and match index as the indexes\n",
    "multi_ind = pd.MultiIndex.from_arrays([competition,match_number], names=['competition', 'match_index'])\n",
    "mi = pd.DataFrame(data={'opponent':opponent, 'sentiment_index': match_sentiment_index},index=multi_ind)"
   ]
  },
  {
   "cell_type": "markdown",
   "metadata": {
    "slideshow": {
     "slide_type": "slide"
    }
   },
   "source": [
    "Plot figure"
   ]
  },
  {
   "cell_type": "code",
   "execution_count": 5,
   "metadata": {
    "collapsed": false,
    "slideshow": {
     "slide_type": "slide"
    }
   },
   "outputs": [
    {
     "data": {
      "image/png": "[encoded data removed]",
      "text/plain": [
       "<matplotlib.figure.Figure at 0x7f001f848278>"
      ]
     },
     "metadata": {},
     "output_type": "display_data"
    }
   ],
   "source": [
    "fig = plt.figure()\n",
    "grid_rows = mi.groupby('competition').count().max()['sentiment_index']\n",
    "grid_cols = len(competitions_to_plot)\n",
    "\n",
    "# Loop through competitions and plot sentiment index for each match\n",
    "ax = []\n",
    "for i,c in enumerate(competitions_to_plot):\n",
    "    n = len(mi['sentiment_index'][c])\n",
    "    ax = plt.subplot2grid((grid_rows,grid_cols),(grid_rows-n,i),rowspan=n)\n",
    "    ax.scatter(mi['sentiment_index'][c].sort_index(),np.arange(0,n))\n",
    "    ax.invert_yaxis()\n",
    "    ax.set_yticks(np.arange(0,n))\n",
    "    ax.set_yticklabels(mi['opponent'][c].sort_index())\n",
    "    ax.set_title(c)\n",
    "    # This may need to change if comments get very negative or very positive\n",
    "    ax.set_xlim([-.5,.5])\n",
    "    ax.set_xticks([0])\n",
    "    ax.set_xticklabels(['<< Negative || Positive >>  '])\n",
    "\n",
    "fig.tight_layout()\n",
    "\n",
    "# Add title to entire figure\n",
    "suptitle = fig.suptitle('Overall sentiment in match threads')\n",
    "fig.subplots_adjust(top=0.85)\n",
    "suptitle.set_y(0.95)\n",
    "\n",
    "# save figure - add the number of data points in the figure\n",
    "fig.savefig('./figures/analysis-over-matches_n-' + str(len(mi)) + '.pdf',r=300)\n",
    "fig.savefig('./figures/analysis-over-matches_n-' + str(len(mi)) + '.png',r=300)"
   ]
  }
 ],
 "metadata": {
  "kernelspec": {
   "display_name": "Python 3",
   "language": "python",
   "name": "python3"
  },
  "language_info": {
   "codemirror_mode": {
    "name": "ipython",
    "version": 3
   },
   "file_extension": ".py",
   "mimetype": "text/x-python",
   "name": "python",
   "nbconvert_exporter": "python",
   "pygments_lexer": "ipython3",
   "version": "3.5.2"
  }
 },
 "nbformat": 4,
 "nbformat_minor": 0
}
